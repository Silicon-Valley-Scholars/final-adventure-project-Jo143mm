{
  "cells": [
    {
      "cell_type": "code",
      "execution_count": null,
      "metadata": {
        "colab": {
          "base_uri": "https://localhost:8080/"
        },
        "id": "o2uo5DoIfksq",
        "collapsed": true,
        "outputId": "16b9cc63-bd6a-4ce3-abfb-0fa3f6d356e4"
      },
      "outputs": [
        {
          "metadata": {
            "tags": null
          },
          "name": "stdout",
          "output_type": "stream",
          "text": [
            "Starting game\n",
            "This is a quest where you need to find the elixir to save your whole village from dying.\n",
            "You can put your name as Arin, Jo, or anything you want but the different names will influence the trail you will go\n",
            "Joanna\n",
            "You got trail 3!\n",
            "900\n",
            "You now have a ['dog']\n",
            "Now you start the adventure to the forest for 3 days\n",
            "You have finished your journey and continue to go into the forest 0\n",
            "You have finished your journey and continue to go into the forest 1\n",
            "You have finished your journey and continue to go into the forest 2\n",
            "You have decided to go into a forest and seek shelter but you see two paths what will you take (Path 1/Path 2)\n"
          ]
        }
      ],
      "source": [
        "import random\n",
        "import time\n",
        "time.sleep(5)\n",
        "print(\"Starting game\")\n",
        "print(\"This is a quest where you need to find the elixir to save your whole village from dying.\")\n",
        "print(\"You can put your name as Arin, Jo, or anything you want but the different names will influence the trail you will go\")\n",
        "character=input()\n",
        "print(character)\n",
        "diamond=1000\n",
        "if character==\"Arin\" :\n",
        "  print(\"You got trail 1!\")\n",
        "elif character==\"Jo\" :\n",
        "  print(\"You got trail 2!\")\n",
        "else:\n",
        "    print(\"You got trail 3!\")\n",
        "random.choice([\"sword\",\"gun\"])\n",
        "print(diamond-100)\n",
        "\n",
        "pet=[]\n",
        "pet.append(\"dog\")\n",
        "print(\"You now have a\",pet)\n",
        "print(\"Now you start the adventure to the forest for 3 days\")\n",
        "for day in range(3):\n",
        "  print(\"You have finished your journey and continue to go into the forest\",day)\n",
        "  time.sleep(2)\n",
        "print(\"You have decided to go into a forest and seek shelter but you see two paths what will you take (Path 1/Path 2)\")\n",
        "\n",
        "energy=5\n",
        "while True:\n",
        "  path=input()\n",
        "  if path==\"Path 1\":\n",
        "    print(\"Oh no you had to fight a monster which caused to to lose some of your energy.\")\n",
        "    energy-=1\n",
        "    break\n",
        "  elif path==\"Path 2\":\n",
        "    print(\"You have choosen a safe path and you walk and continue into the forest.\")\n",
        "    energy+=1\n",
        "    break\n",
        "  else:\n",
        "    print(\"Invlid input try again \")\n",
        "print(\"You now have\",energy,\"energy\")\n",
        "print(\"After your nap you see a mountain you check your map and you notice that this is the place you get the flower to make the elixir to save your village.\")\n",
        "print(\"As you continue to climb up a mountain you see once again 2 paths (Path 1/Path 2)\")\n",
        "path=input()\n",
        "if path==\"Path 1\":\n",
        "  print(\"You have choosen the easy path so you continue to walk up and see the beautiful flower. flower gleam and glow..., and then you put it in your bag.\")\n",
        "if path==\"Path 2\":\n",
        "  print(\"Sadly you choosen a quite difficult path and you go through an avalanche but you get out of the snow and find a beautiful flower and pick it and put it in your bag.\")\n",
        "print(\"You go down and find the potion maker\")\n",
        "def greet(name):\n",
        "  return \"Hello I am the potion maker and my name is \" + name\n",
        "print(greet(\"Fay\"))\n",
        "time.sleep(2)\n",
        "print(\"Hey Fay I need a elixir from this flower and I will pay you 999 diamonds from my inventory.\")\n",
        "time.sleep(2)\n",
        "print(\"Alright I will need the payment and I will make the elixer right now.\")\n",
        "time.sleep(4)\n",
        "print(\"Here you go this is the elixer.\")\n",
        "time.sleep(3)\n",
        "print(\"You run back to your village and pour a drop on everyone and your save your village good job!!\")"
      ]
    },
    {
      "cell_type": "code",
      "execution_count": null,
      "metadata": {
        "id": "gjGHOg_wgidz"
      },
      "outputs": [],
      "source": []
    }
  ],
  "metadata": {
    "colab": {
      "provenance": []
    },
    "kernelspec": {
      "display_name": "Python 3",
      "name": "python3"
    },
    "language_info": {
      "name": "python"
    }
  },
  "nbformat": 4,
  "nbformat_minor": 0
}